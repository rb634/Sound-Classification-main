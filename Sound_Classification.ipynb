{
  "nbformat": 4,
  "nbformat_minor": 0,
  "metadata": {
    "colab": {
      "name": "Sound_Classification.ipynb.ipynb",
      "provenance": [],
      "collapsed_sections": []
    },
    "kernelspec": {
      "display_name": "Python 3",
      "name": "python3"
    },
    "language_info": {
      "name": "python"
    }
  },
  "cells": [
    {
      "cell_type": "code",
      "metadata": {
        "id": "jfTt0x_Wx-c9"
      },
      "source": [
        "import IPython.display as ipd\n",
        "import librosa\n",
        "import librosa.display"
      ],
      "execution_count": null,
      "outputs": []
    },
    {
      "cell_type": "markdown",
      "metadata": {
        "id": "CHpwZNr596f6"
      },
      "source": [
        "Importing the Sound Dataset"
      ]
    },
    {
      "cell_type": "code",
      "metadata": {
        "id": "HkD30mG3ty85"
      },
      "source": [
        "import glob\n",
        "a = (glob.glob(\"/content/drive/MyDrive/Sound/SD_2/*.wav\"))  "
      ],
      "execution_count": null,
      "outputs": []
    },
    {
      "cell_type": "markdown",
      "metadata": {
        "id": "DIwtpgVN-ooR"
      },
      "source": [
        "Storing the labels"
      ]
    },
    {
      "cell_type": "code",
      "metadata": {
        "id": "52Gwe8jswFkg"
      },
      "source": [
        "label = []\n",
        "for i in a:\n",
        "  temp = []\n",
        "  temp = (i.split('_')[3].split('.')[0])\n",
        "  label.append(temp)\n",
        "  \n"
      ],
      "execution_count": null,
      "outputs": []
    },
    {
      "cell_type": "code",
      "metadata": {
        "id": "GCYVE-WAwuT4"
      },
      "source": [
        "test = a[0]"
      ],
      "execution_count": null,
      "outputs": []
    },
    {
      "cell_type": "code",
      "metadata": {
        "colab": {
          "base_uri": "https://localhost:8080/",
          "height": 35
        },
        "id": "xq-k5fhYvQ3l",
        "outputId": "fc8926db-7fb2-4f4c-91af-4f1d6beaa92c"
      },
      "source": [
        "test"
      ],
      "execution_count": null,
      "outputs": [
        {
          "data": {
            "application/vnd.google.colaboratory.intrinsic+json": {
              "type": "string"
            },
            "text/plain": [
              "'/content/drive/MyDrive/Sound/SD_2/YAF_gun_ps.wav'"
            ]
          },
          "execution_count": 42,
          "metadata": {
            "tags": []
          },
          "output_type": "execute_result"
        }
      ]
    },
    {
      "cell_type": "code",
      "metadata": {
        "id": "t6Jzmn6hvWe7"
      },
      "source": [
        "for i in range(len(label)):\n",
        "  if (label[i] == 'ps'):\n",
        "    label[i] = 'surprised'"
      ],
      "execution_count": null,
      "outputs": []
    },
    {
      "cell_type": "code",
      "metadata": {
        "id": "jYr3jJSZvwCk"
      },
      "source": [
        "from collections import Counter\n"
      ],
      "execution_count": null,
      "outputs": []
    },
    {
      "cell_type": "code",
      "metadata": {
        "colab": {
          "base_uri": "https://localhost:8080/"
        },
        "id": "MtAAU4K7w4ca",
        "outputId": "9d1514e8-f140-4d39-d090-9f1aaa323c2a"
      },
      "source": [
        "Counter(label)"
      ],
      "execution_count": null,
      "outputs": [
        {
          "data": {
            "text/plain": [
              "Counter({'angry': 400,\n",
              "         'disgust': 400,\n",
              "         'fear': 400,\n",
              "         'happy': 400,\n",
              "         'neutral': 400,\n",
              "         'sad': 400,\n",
              "         'surprised': 400})"
            ]
          },
          "execution_count": 37,
          "metadata": {
            "tags": []
          },
          "output_type": "execute_result"
        }
      ]
    },
    {
      "cell_type": "markdown",
      "metadata": {
        "id": "fo_6lzDp-wy2"
      },
      "source": [
        "Creating a function to extract features of sound data using Librosa library"
      ]
    },
    {
      "cell_type": "code",
      "metadata": {
        "id": "79fOp3TTw5rR"
      },
      "source": [
        "def features_extractor(file):\n",
        "    audio, sample_rate = librosa.load(file_name, res_type='kaiser_fast') \n",
        "    mfccs_features = librosa.feature.mfcc(y=audio, sr=sample_rate, n_mfcc=40)\n",
        "    mfccs_scaled_features = np.mean(mfccs_features.T,axis=0)\n",
        "    \n",
        "    return mfccs_scaled_features"
      ],
      "execution_count": null,
      "outputs": []
    },
    {
      "cell_type": "code",
      "metadata": {
        "id": "bj-nNAgnx6Sh"
      },
      "source": [
        "audio_dataset_path='/content/drive/MyDrive/Sound/SD_2'\n"
      ],
      "execution_count": null,
      "outputs": []
    },
    {
      "cell_type": "markdown",
      "metadata": {
        "id": "v5LJpDY__XIu"
      },
      "source": [
        "Now we iterate through every audio file and extract features using Mel-Frequency Cepstral Coefficients\n"
      ]
    },
    {
      "cell_type": "code",
      "metadata": {
        "colab": {
          "base_uri": "https://localhost:8080/"
        },
        "id": "s3XDmhqvyZcx",
        "outputId": "fa309652-85d1-47b5-eaf2-e987d76063ae"
      },
      "source": [
        "import numpy as np\n",
        "from tqdm import tqdm\n",
        "\n",
        "extracted_features=[]\n",
        "for i in tqdm(a):\n",
        "    file_name = i\n",
        "    final_class_labels=(i.split('_')[3].split('.')[0])\n",
        "    data=features_extractor(file_name)\n",
        "    extracted_features.append([data,final_class_labels])"
      ],
      "execution_count": null,
      "outputs": [
        {
          "name": "stderr",
          "output_type": "stream",
          "text": [
            "100%|██████████| 2800/2800 [15:21<00:00,  3.04it/s]\n"
          ]
        }
      ]
    },
    {
      "cell_type": "code",
      "metadata": {
        "id": "91Qhr_XQ1LWb"
      },
      "source": [
        "import warnings\n",
        "warnings.filterwarnings(\"ignore\")"
      ],
      "execution_count": null,
      "outputs": []
    },
    {
      "cell_type": "markdown",
      "metadata": {
        "id": "xaWit1SS_Ma4"
      },
      "source": [
        "Converting extracted_features to Pandas dataframe\n"
      ]
    },
    {
      "cell_type": "code",
      "metadata": {
        "colab": {
          "base_uri": "https://localhost:8080/",
          "height": 197
        },
        "id": "eUL-hhJk0kXS",
        "outputId": "c6561446-e45c-4639-8230-4b983a119bb8"
      },
      "source": [
        "extracted_features_df=pd.DataFrame(extracted_features,columns=['feature','class'])\n",
        "extracted_features_df.head()"
      ],
      "execution_count": null,
      "outputs": [
        {
          "data": {
            "text/html": [
              "<div>\n",
              "<style scoped>\n",
              "    .dataframe tbody tr th:only-of-type {\n",
              "        vertical-align: middle;\n",
              "    }\n",
              "\n",
              "    .dataframe tbody tr th {\n",
              "        vertical-align: top;\n",
              "    }\n",
              "\n",
              "    .dataframe thead th {\n",
              "        text-align: right;\n",
              "    }\n",
              "</style>\n",
              "<table border=\"1\" class=\"dataframe\">\n",
              "  <thead>\n",
              "    <tr style=\"text-align: right;\">\n",
              "      <th></th>\n",
              "      <th>feature</th>\n",
              "      <th>class</th>\n",
              "    </tr>\n",
              "  </thead>\n",
              "  <tbody>\n",
              "    <tr>\n",
              "      <th>0</th>\n",
              "      <td>[-355.69376, 57.323643, -23.254953, 5.7955832,...</td>\n",
              "      <td>ps</td>\n",
              "    </tr>\n",
              "    <tr>\n",
              "      <th>1</th>\n",
              "      <td>[-323.7222, 29.46084, -28.330841, 12.185203, -...</td>\n",
              "      <td>angry</td>\n",
              "    </tr>\n",
              "    <tr>\n",
              "      <th>2</th>\n",
              "      <td>[-300.7868, 37.027794, -19.649448, 40.014153, ...</td>\n",
              "      <td>fear</td>\n",
              "    </tr>\n",
              "    <tr>\n",
              "      <th>3</th>\n",
              "      <td>[-334.66147, 44.841854, -40.6202, 3.5719078, -...</td>\n",
              "      <td>ps</td>\n",
              "    </tr>\n",
              "    <tr>\n",
              "      <th>4</th>\n",
              "      <td>[-311.78323, 43.74869, -30.711937, 18.918646, ...</td>\n",
              "      <td>fear</td>\n",
              "    </tr>\n",
              "  </tbody>\n",
              "</table>\n",
              "</div>"
            ],
            "text/plain": [
              "                                             feature  class\n",
              "0  [-355.69376, 57.323643, -23.254953, 5.7955832,...     ps\n",
              "1  [-323.7222, 29.46084, -28.330841, 12.185203, -...  angry\n",
              "2  [-300.7868, 37.027794, -19.649448, 40.014153, ...   fear\n",
              "3  [-334.66147, 44.841854, -40.6202, 3.5719078, -...     ps\n",
              "4  [-311.78323, 43.74869, -30.711937, 18.918646, ...   fear"
            ]
          },
          "execution_count": 51,
          "metadata": {
            "tags": []
          },
          "output_type": "execute_result"
        }
      ]
    },
    {
      "cell_type": "code",
      "metadata": {
        "colab": {
          "base_uri": "https://localhost:8080/",
          "height": 406
        },
        "id": "8NDtEJvz4OWO",
        "outputId": "39727f81-0987-49c9-9696-2e02a5697949"
      },
      "source": [
        "extracted_features_df.replace(to_replace =\"ps\",\n",
        "                 value =\"surprised\")"
      ],
      "execution_count": null,
      "outputs": [
        {
          "data": {
            "text/html": [
              "<div>\n",
              "<style scoped>\n",
              "    .dataframe tbody tr th:only-of-type {\n",
              "        vertical-align: middle;\n",
              "    }\n",
              "\n",
              "    .dataframe tbody tr th {\n",
              "        vertical-align: top;\n",
              "    }\n",
              "\n",
              "    .dataframe thead th {\n",
              "        text-align: right;\n",
              "    }\n",
              "</style>\n",
              "<table border=\"1\" class=\"dataframe\">\n",
              "  <thead>\n",
              "    <tr style=\"text-align: right;\">\n",
              "      <th></th>\n",
              "      <th>feature</th>\n",
              "      <th>class</th>\n",
              "    </tr>\n",
              "  </thead>\n",
              "  <tbody>\n",
              "    <tr>\n",
              "      <th>0</th>\n",
              "      <td>[-355.69376, 57.323643, -23.254953, 5.7955832,...</td>\n",
              "      <td>surprised</td>\n",
              "    </tr>\n",
              "    <tr>\n",
              "      <th>1</th>\n",
              "      <td>[-323.7222, 29.46084, -28.330841, 12.185203, -...</td>\n",
              "      <td>angry</td>\n",
              "    </tr>\n",
              "    <tr>\n",
              "      <th>2</th>\n",
              "      <td>[-300.7868, 37.027794, -19.649448, 40.014153, ...</td>\n",
              "      <td>fear</td>\n",
              "    </tr>\n",
              "    <tr>\n",
              "      <th>3</th>\n",
              "      <td>[-334.66147, 44.841854, -40.6202, 3.5719078, -...</td>\n",
              "      <td>surprised</td>\n",
              "    </tr>\n",
              "    <tr>\n",
              "      <th>4</th>\n",
              "      <td>[-311.78323, 43.74869, -30.711937, 18.918646, ...</td>\n",
              "      <td>fear</td>\n",
              "    </tr>\n",
              "    <tr>\n",
              "      <th>...</th>\n",
              "      <td>...</td>\n",
              "      <td>...</td>\n",
              "    </tr>\n",
              "    <tr>\n",
              "      <th>2795</th>\n",
              "      <td>[-445.30246, 71.04448, 7.4023705, -3.6404228, ...</td>\n",
              "      <td>fear</td>\n",
              "    </tr>\n",
              "    <tr>\n",
              "      <th>2796</th>\n",
              "      <td>[-464.97357, 87.857124, 19.857723, 20.849457, ...</td>\n",
              "      <td>disgust</td>\n",
              "    </tr>\n",
              "    <tr>\n",
              "      <th>2797</th>\n",
              "      <td>[-502.36795, 75.44127, 8.496121, 20.935692, 11...</td>\n",
              "      <td>disgust</td>\n",
              "    </tr>\n",
              "    <tr>\n",
              "      <th>2798</th>\n",
              "      <td>[-413.2373, 74.80348, -9.518274, -5.9231834, -...</td>\n",
              "      <td>fear</td>\n",
              "    </tr>\n",
              "    <tr>\n",
              "      <th>2799</th>\n",
              "      <td>[-502.11514, 87.08189, 4.675834, 8.59819, 8.18...</td>\n",
              "      <td>neutral</td>\n",
              "    </tr>\n",
              "  </tbody>\n",
              "</table>\n",
              "<p>2800 rows × 2 columns</p>\n",
              "</div>"
            ],
            "text/plain": [
              "                                                feature      class\n",
              "0     [-355.69376, 57.323643, -23.254953, 5.7955832,...  surprised\n",
              "1     [-323.7222, 29.46084, -28.330841, 12.185203, -...      angry\n",
              "2     [-300.7868, 37.027794, -19.649448, 40.014153, ...       fear\n",
              "3     [-334.66147, 44.841854, -40.6202, 3.5719078, -...  surprised\n",
              "4     [-311.78323, 43.74869, -30.711937, 18.918646, ...       fear\n",
              "...                                                 ...        ...\n",
              "2795  [-445.30246, 71.04448, 7.4023705, -3.6404228, ...       fear\n",
              "2796  [-464.97357, 87.857124, 19.857723, 20.849457, ...    disgust\n",
              "2797  [-502.36795, 75.44127, 8.496121, 20.935692, 11...    disgust\n",
              "2798  [-413.2373, 74.80348, -9.518274, -5.9231834, -...       fear\n",
              "2799  [-502.11514, 87.08189, 4.675834, 8.59819, 8.18...    neutral\n",
              "\n",
              "[2800 rows x 2 columns]"
            ]
          },
          "execution_count": 52,
          "metadata": {
            "tags": []
          },
          "output_type": "execute_result"
        }
      ]
    },
    {
      "cell_type": "markdown",
      "metadata": {
        "id": "C-3CfqjX_e8B"
      },
      "source": [
        " Split the dataset into independent and dependent dataset\n"
      ]
    },
    {
      "cell_type": "code",
      "metadata": {
        "id": "ObYH-9Go0kT1"
      },
      "source": [
        "X=np.array(extracted_features_df['feature'].tolist())\n",
        "y=np.array(extracted_features_df['class'].tolist())"
      ],
      "execution_count": null,
      "outputs": []
    },
    {
      "cell_type": "code",
      "metadata": {
        "colab": {
          "base_uri": "https://localhost:8080/"
        },
        "id": "bpRtwKmD0kQa",
        "outputId": "ec50d476-032c-412d-8158-c2e55cb42253"
      },
      "source": [
        "X.shape\n"
      ],
      "execution_count": null,
      "outputs": [
        {
          "data": {
            "text/plain": [
              "(2800, 40)"
            ]
          },
          "execution_count": 54,
          "metadata": {
            "tags": []
          },
          "output_type": "execute_result"
        }
      ]
    },
    {
      "cell_type": "code",
      "metadata": {
        "colab": {
          "base_uri": "https://localhost:8080/"
        },
        "id": "keuBMAzu0kL4",
        "outputId": "cdf1d17a-e62a-40d0-bc5e-12ab47ba80c7"
      },
      "source": [
        "y"
      ],
      "execution_count": null,
      "outputs": [
        {
          "data": {
            "text/plain": [
              "array(['ps', 'angry', 'fear', ..., 'disgust', 'fear', 'neutral'],\n",
              "      dtype='<U7')"
            ]
          },
          "execution_count": 55,
          "metadata": {
            "tags": []
          },
          "output_type": "execute_result"
        }
      ]
    },
    {
      "cell_type": "code",
      "metadata": {
        "id": "lWF4Xoz90kIf"
      },
      "source": [
        "from tensorflow.keras.utils import to_categorical\n",
        "from sklearn.preprocessing import LabelEncoder\n",
        "labelencoder=LabelEncoder()\n",
        "y=to_categorical(labelencoder.fit_transform(y))"
      ],
      "execution_count": null,
      "outputs": []
    },
    {
      "cell_type": "code",
      "metadata": {
        "colab": {
          "base_uri": "https://localhost:8080/"
        },
        "id": "4Oqp2Oqu0kEI",
        "outputId": "146780ea-4c83-4529-d843-43fffddb13c0"
      },
      "source": [
        "y"
      ],
      "execution_count": null,
      "outputs": [
        {
          "data": {
            "text/plain": [
              "array([[0., 0., 0., ..., 0., 1., 0.],\n",
              "       [1., 0., 0., ..., 0., 0., 0.],\n",
              "       [0., 0., 1., ..., 0., 0., 0.],\n",
              "       ...,\n",
              "       [0., 1., 0., ..., 0., 0., 0.],\n",
              "       [0., 0., 1., ..., 0., 0., 0.],\n",
              "       [0., 0., 0., ..., 1., 0., 0.]], dtype=float32)"
            ]
          },
          "execution_count": 57,
          "metadata": {
            "tags": []
          },
          "output_type": "execute_result"
        }
      ]
    },
    {
      "cell_type": "markdown",
      "metadata": {
        "id": "z7rP0y2Q_k3H"
      },
      "source": [
        "Train Test Split"
      ]
    },
    {
      "cell_type": "code",
      "metadata": {
        "id": "9xRGM29_0kAO"
      },
      "source": [
        "from sklearn.model_selection import train_test_split\n",
        "X_train,X_test,y_train,y_test=train_test_split(X,y,test_size=0.2,random_state=0)"
      ],
      "execution_count": null,
      "outputs": []
    },
    {
      "cell_type": "code",
      "metadata": {
        "colab": {
          "base_uri": "https://localhost:8080/"
        },
        "id": "WPva8JCU0j8k",
        "outputId": "5f6d968b-6632-4a43-f941-9a5385c83d2d"
      },
      "source": [
        "X_train"
      ],
      "execution_count": null,
      "outputs": [
        {
          "data": {
            "text/plain": [
              "array([[-5.2566028e+02,  8.8053703e+01,  1.7790604e+01, ...,\n",
              "         1.3830474e+01,  1.0719818e+01,  1.5248736e+01],\n",
              "       [-3.0149756e+02,  3.2979958e+01, -2.5914604e+01, ...,\n",
              "        -6.3365617e+00, -4.5419664e+00, -3.0858165e-01],\n",
              "       [-3.3398419e+02,  1.5430432e+01, -1.6283096e+01, ...,\n",
              "        -2.3440795e+00, -2.5255470e+00, -1.8828529e-01],\n",
              "       ...,\n",
              "       [-3.8382471e+02,  6.1429348e+01, -2.5949579e+01, ...,\n",
              "         1.6181866e+00,  3.8618839e+00, -1.0109454e+00],\n",
              "       [-4.1996460e+02,  8.9124176e+01,  7.5640635e+00, ...,\n",
              "         9.7622547e+00,  6.9978070e+00,  5.1651907e+00],\n",
              "       [-4.5130487e+02,  9.7292252e+01,  2.3432587e+01, ...,\n",
              "         5.0757513e+00,  4.5313263e+00,  4.2487245e+00]], dtype=float32)"
            ]
          },
          "execution_count": 59,
          "metadata": {
            "tags": []
          },
          "output_type": "execute_result"
        }
      ]
    },
    {
      "cell_type": "code",
      "metadata": {
        "colab": {
          "base_uri": "https://localhost:8080/"
        },
        "id": "NUW85Py-0j47",
        "outputId": "061bf05a-04be-444d-ab7e-e341f5366130"
      },
      "source": [
        "y"
      ],
      "execution_count": null,
      "outputs": [
        {
          "data": {
            "text/plain": [
              "array([[0., 0., 0., ..., 0., 1., 0.],\n",
              "       [1., 0., 0., ..., 0., 0., 0.],\n",
              "       [0., 0., 1., ..., 0., 0., 0.],\n",
              "       ...,\n",
              "       [0., 1., 0., ..., 0., 0., 0.],\n",
              "       [0., 0., 1., ..., 0., 0., 0.],\n",
              "       [0., 0., 0., ..., 1., 0., 0.]], dtype=float32)"
            ]
          },
          "execution_count": 60,
          "metadata": {
            "tags": []
          },
          "output_type": "execute_result"
        }
      ]
    },
    {
      "cell_type": "code",
      "metadata": {
        "colab": {
          "base_uri": "https://localhost:8080/"
        },
        "id": "r0AT74X20j1n",
        "outputId": "69f8d398-f22b-4de8-bb8c-725f9c376884"
      },
      "source": [
        "X_train.shape\n"
      ],
      "execution_count": null,
      "outputs": [
        {
          "data": {
            "text/plain": [
              "(2240, 40)"
            ]
          },
          "execution_count": 61,
          "metadata": {
            "tags": []
          },
          "output_type": "execute_result"
        }
      ]
    },
    {
      "cell_type": "code",
      "metadata": {
        "colab": {
          "base_uri": "https://localhost:8080/"
        },
        "id": "b1aaQCHk0jxV",
        "outputId": "58cb5989-dd60-4a01-dcce-a287cf7bfa4e"
      },
      "source": [
        "X_test.shape\n"
      ],
      "execution_count": null,
      "outputs": [
        {
          "data": {
            "text/plain": [
              "(560, 40)"
            ]
          },
          "execution_count": 62,
          "metadata": {
            "tags": []
          },
          "output_type": "execute_result"
        }
      ]
    },
    {
      "cell_type": "code",
      "metadata": {
        "colab": {
          "base_uri": "https://localhost:8080/"
        },
        "id": "3pGNO2Rq0jtp",
        "outputId": "77434a72-f4e1-4100-df42-34898570b8fc"
      },
      "source": [
        "y_train.shape\n"
      ],
      "execution_count": null,
      "outputs": [
        {
          "data": {
            "text/plain": [
              "(2240, 7)"
            ]
          },
          "execution_count": 63,
          "metadata": {
            "tags": []
          },
          "output_type": "execute_result"
        }
      ]
    },
    {
      "cell_type": "code",
      "metadata": {
        "colab": {
          "base_uri": "https://localhost:8080/"
        },
        "id": "rPIAVbj80jp_",
        "outputId": "d5ea9657-97aa-424a-c232-9fc6b8d9dea4"
      },
      "source": [
        "y_test.shape\n"
      ],
      "execution_count": null,
      "outputs": [
        {
          "data": {
            "text/plain": [
              "(560, 7)"
            ]
          },
          "execution_count": 64,
          "metadata": {
            "tags": []
          },
          "output_type": "execute_result"
        }
      ]
    },
    {
      "cell_type": "markdown",
      "metadata": {
        "id": "qUxWZOOc_z5P"
      },
      "source": [
        "Creating my Model "
      ]
    },
    {
      "cell_type": "code",
      "metadata": {
        "colab": {
          "base_uri": "https://localhost:8080/"
        },
        "id": "VOL4G5Tu0jlu",
        "outputId": "18bc1cd7-d4a9-4c4e-ffa6-ca6f902cea24"
      },
      "source": [
        "import tensorflow as tf\n",
        "print(tf.__version__)"
      ],
      "execution_count": null,
      "outputs": [
        {
          "name": "stdout",
          "output_type": "stream",
          "text": [
            "2.5.0\n"
          ]
        }
      ]
    },
    {
      "cell_type": "code",
      "metadata": {
        "id": "KnyULGgm0jgO"
      },
      "source": [
        "from tensorflow.keras.models import Sequential\n",
        "from tensorflow.keras.layers import Dense,Dropout,Activation,Flatten\n",
        "from tensorflow.keras.optimizers import Adam\n",
        "from sklearn import metrics"
      ],
      "execution_count": null,
      "outputs": []
    },
    {
      "cell_type": "code",
      "metadata": {
        "id": "iJkK1kw_0jc3"
      },
      "source": [
        "### No of classes\n",
        "num_labels=y.shape[1]"
      ],
      "execution_count": null,
      "outputs": []
    },
    {
      "cell_type": "code",
      "metadata": {
        "id": "6jWBOZHb0jZV"
      },
      "source": [
        "model=Sequential()\n",
        "###first layer\n",
        "model.add(Dense(100,input_shape=(40,)))\n",
        "model.add(Activation('relu'))\n",
        "model.add(Dropout(0.5))\n",
        "###second layer\n",
        "model.add(Dense(200))\n",
        "model.add(Activation('relu'))\n",
        "model.add(Dropout(0.5))\n",
        "###third layer\n",
        "model.add(Dense(100))\n",
        "model.add(Activation('relu'))\n",
        "model.add(Dropout(0.5))\n",
        "\n",
        "###final layer\n",
        "model.add(Dense(num_labels))\n",
        "model.add(Activation('softmax'))"
      ],
      "execution_count": null,
      "outputs": []
    },
    {
      "cell_type": "code",
      "metadata": {
        "colab": {
          "base_uri": "https://localhost:8080/"
        },
        "id": "qblstLvJ0jWW",
        "outputId": "89ad5a05-59c5-4401-e0d8-82ed7000cd93"
      },
      "source": [
        "model.summary()\n"
      ],
      "execution_count": null,
      "outputs": [
        {
          "name": "stdout",
          "output_type": "stream",
          "text": [
            "Model: \"sequential\"\n",
            "_________________________________________________________________\n",
            "Layer (type)                 Output Shape              Param #   \n",
            "=================================================================\n",
            "dense (Dense)                (None, 100)               4100      \n",
            "_________________________________________________________________\n",
            "activation (Activation)      (None, 100)               0         \n",
            "_________________________________________________________________\n",
            "dropout (Dropout)            (None, 100)               0         \n",
            "_________________________________________________________________\n",
            "dense_1 (Dense)              (None, 200)               20200     \n",
            "_________________________________________________________________\n",
            "activation_1 (Activation)    (None, 200)               0         \n",
            "_________________________________________________________________\n",
            "dropout_1 (Dropout)          (None, 200)               0         \n",
            "_________________________________________________________________\n",
            "dense_2 (Dense)              (None, 100)               20100     \n",
            "_________________________________________________________________\n",
            "activation_2 (Activation)    (None, 100)               0         \n",
            "_________________________________________________________________\n",
            "dropout_2 (Dropout)          (None, 100)               0         \n",
            "_________________________________________________________________\n",
            "dense_3 (Dense)              (None, 7)                 707       \n",
            "_________________________________________________________________\n",
            "activation_3 (Activation)    (None, 7)                 0         \n",
            "=================================================================\n",
            "Total params: 45,107\n",
            "Trainable params: 45,107\n",
            "Non-trainable params: 0\n",
            "_________________________________________________________________\n"
          ]
        }
      ]
    },
    {
      "cell_type": "code",
      "metadata": {
        "id": "UJKm8G0T0jTD"
      },
      "source": [
        "model.compile(loss='categorical_crossentropy',metrics=['accuracy'],optimizer='adam')\n"
      ],
      "execution_count": null,
      "outputs": []
    },
    {
      "cell_type": "markdown",
      "metadata": {
        "id": "B0WfPJhN_r9g"
      },
      "source": [
        "Training my model"
      ]
    },
    {
      "cell_type": "code",
      "metadata": {
        "colab": {
          "base_uri": "https://localhost:8080/"
        },
        "id": "r2Kyq8Ye0jOw",
        "outputId": "c3546aaf-e9d6-4f75-a109-9a94ba5fc235"
      },
      "source": [
        "\n",
        "from tensorflow.keras.callbacks import ModelCheckpoint\n",
        "from datetime import datetime \n",
        "\n",
        "num_epochs = 100\n",
        "num_batch_size = 32\n",
        "\n",
        "checkpointer = ModelCheckpoint(filepath='saved_models/audio_classification.hdf5', \n",
        "                               verbose=1, save_best_only=True)\n",
        "start = datetime.now()\n",
        "\n",
        "model.fit(X_train, y_train, batch_size=num_batch_size, epochs=num_epochs, validation_data=(X_test, y_test), callbacks=[checkpointer], verbose=1)\n",
        "\n",
        "\n",
        "duration = datetime.now() - start\n",
        "print(\"Training completed in time: \", duration)"
      ],
      "execution_count": null,
      "outputs": [
        {
          "name": "stdout",
          "output_type": "stream",
          "text": [
            "Epoch 1/100\n",
            "70/70 [==============================] - 1s 6ms/step - loss: 28.5737 - accuracy: 0.1437 - val_loss: 1.9373 - val_accuracy: 0.2357\n",
            "\n",
            "Epoch 00001: val_loss improved from inf to 1.93730, saving model to saved_models/audio_classification.hdf5\n",
            "Epoch 2/100\n",
            "70/70 [==============================] - 0s 3ms/step - loss: 5.7380 - accuracy: 0.1576 - val_loss: 1.9442 - val_accuracy: 0.1554\n",
            "\n",
            "Epoch 00002: val_loss did not improve from 1.93730\n",
            "Epoch 3/100\n",
            "70/70 [==============================] - 0s 3ms/step - loss: 2.8841 - accuracy: 0.1598 - val_loss: 1.9439 - val_accuracy: 0.1554\n",
            "\n",
            "Epoch 00003: val_loss did not improve from 1.93730\n",
            "Epoch 4/100\n",
            "70/70 [==============================] - 0s 4ms/step - loss: 2.3401 - accuracy: 0.1469 - val_loss: 1.9439 - val_accuracy: 0.1554\n",
            "\n",
            "Epoch 00004: val_loss did not improve from 1.93730\n",
            "Epoch 5/100\n",
            "70/70 [==============================] - 0s 4ms/step - loss: 2.1115 - accuracy: 0.1576 - val_loss: 1.9443 - val_accuracy: 0.1554\n",
            "\n",
            "Epoch 00005: val_loss did not improve from 1.93730\n",
            "Epoch 6/100\n",
            "70/70 [==============================] - 0s 3ms/step - loss: 2.0523 - accuracy: 0.1522 - val_loss: 1.9446 - val_accuracy: 0.1554\n",
            "\n",
            "Epoch 00006: val_loss did not improve from 1.93730\n",
            "Epoch 7/100\n",
            "70/70 [==============================] - 0s 3ms/step - loss: 2.0482 - accuracy: 0.1482 - val_loss: 1.9447 - val_accuracy: 0.1554\n",
            "\n",
            "Epoch 00007: val_loss did not improve from 1.93730\n",
            "Epoch 8/100\n",
            "70/70 [==============================] - 0s 3ms/step - loss: 2.0050 - accuracy: 0.1469 - val_loss: 1.9452 - val_accuracy: 0.1554\n",
            "\n",
            "Epoch 00008: val_loss did not improve from 1.93730\n",
            "Epoch 9/100\n",
            "70/70 [==============================] - 0s 3ms/step - loss: 1.9876 - accuracy: 0.1496 - val_loss: 1.9455 - val_accuracy: 0.1554\n",
            "\n",
            "Epoch 00009: val_loss did not improve from 1.93730\n",
            "Epoch 10/100\n",
            "70/70 [==============================] - 0s 3ms/step - loss: 1.9733 - accuracy: 0.1464 - val_loss: 1.9458 - val_accuracy: 0.1554\n",
            "\n",
            "Epoch 00010: val_loss did not improve from 1.93730\n",
            "Epoch 11/100\n",
            "70/70 [==============================] - 0s 3ms/step - loss: 1.9806 - accuracy: 0.1397 - val_loss: 1.9460 - val_accuracy: 0.1554\n",
            "\n",
            "Epoch 00011: val_loss did not improve from 1.93730\n",
            "Epoch 12/100\n",
            "70/70 [==============================] - 0s 3ms/step - loss: 1.9658 - accuracy: 0.1473 - val_loss: 1.9462 - val_accuracy: 0.1554\n",
            "\n",
            "Epoch 00012: val_loss did not improve from 1.93730\n",
            "Epoch 13/100\n",
            "70/70 [==============================] - 0s 3ms/step - loss: 1.9735 - accuracy: 0.1362 - val_loss: 1.9466 - val_accuracy: 0.1143\n",
            "\n",
            "Epoch 00013: val_loss did not improve from 1.93730\n",
            "Epoch 14/100\n",
            "70/70 [==============================] - 0s 3ms/step - loss: 1.9618 - accuracy: 0.1442 - val_loss: 1.9469 - val_accuracy: 0.1143\n",
            "\n",
            "Epoch 00014: val_loss did not improve from 1.93730\n",
            "Epoch 15/100\n",
            "70/70 [==============================] - 0s 3ms/step - loss: 1.9674 - accuracy: 0.1571 - val_loss: 1.9470 - val_accuracy: 0.1143\n",
            "\n",
            "Epoch 00015: val_loss did not improve from 1.93730\n",
            "Epoch 16/100\n",
            "70/70 [==============================] - 0s 3ms/step - loss: 1.9501 - accuracy: 0.1571 - val_loss: 1.9473 - val_accuracy: 0.1143\n",
            "\n",
            "Epoch 00016: val_loss did not improve from 1.93730\n",
            "Epoch 17/100\n",
            "70/70 [==============================] - 0s 3ms/step - loss: 1.9518 - accuracy: 0.1554 - val_loss: 1.9473 - val_accuracy: 0.1143\n",
            "\n",
            "Epoch 00017: val_loss did not improve from 1.93730\n",
            "Epoch 18/100\n",
            "70/70 [==============================] - 0s 3ms/step - loss: 1.9450 - accuracy: 0.1719 - val_loss: 1.9474 - val_accuracy: 0.1143\n",
            "\n",
            "Epoch 00018: val_loss did not improve from 1.93730\n",
            "Epoch 19/100\n",
            "70/70 [==============================] - 0s 3ms/step - loss: 1.9341 - accuracy: 0.1750 - val_loss: 1.9428 - val_accuracy: 0.1393\n",
            "\n",
            "Epoch 00019: val_loss did not improve from 1.93730\n",
            "Epoch 20/100\n",
            "70/70 [==============================] - 0s 3ms/step - loss: 1.8975 - accuracy: 0.1906 - val_loss: 1.8832 - val_accuracy: 0.2393\n",
            "\n",
            "Epoch 00020: val_loss improved from 1.93730 to 1.88324, saving model to saved_models/audio_classification.hdf5\n",
            "Epoch 21/100\n",
            "70/70 [==============================] - 0s 3ms/step - loss: 1.8433 - accuracy: 0.2138 - val_loss: 1.7317 - val_accuracy: 0.3232\n",
            "\n",
            "Epoch 00021: val_loss improved from 1.88324 to 1.73165, saving model to saved_models/audio_classification.hdf5\n",
            "Epoch 22/100\n",
            "70/70 [==============================] - 0s 3ms/step - loss: 1.7771 - accuracy: 0.2571 - val_loss: 1.4820 - val_accuracy: 0.4893\n",
            "\n",
            "Epoch 00022: val_loss improved from 1.73165 to 1.48204, saving model to saved_models/audio_classification.hdf5\n",
            "Epoch 23/100\n",
            "70/70 [==============================] - 0s 3ms/step - loss: 1.7008 - accuracy: 0.2937 - val_loss: 1.4104 - val_accuracy: 0.5482\n",
            "\n",
            "Epoch 00023: val_loss improved from 1.48204 to 1.41041, saving model to saved_models/audio_classification.hdf5\n",
            "Epoch 24/100\n",
            "70/70 [==============================] - 0s 3ms/step - loss: 1.5731 - accuracy: 0.3415 - val_loss: 1.2418 - val_accuracy: 0.6179\n",
            "\n",
            "Epoch 00024: val_loss improved from 1.41041 to 1.24177, saving model to saved_models/audio_classification.hdf5\n",
            "Epoch 25/100\n",
            "70/70 [==============================] - 0s 3ms/step - loss: 1.4658 - accuracy: 0.3772 - val_loss: 1.1101 - val_accuracy: 0.5768\n",
            "\n",
            "Epoch 00025: val_loss improved from 1.24177 to 1.11011, saving model to saved_models/audio_classification.hdf5\n",
            "Epoch 26/100\n",
            "70/70 [==============================] - 0s 3ms/step - loss: 1.3840 - accuracy: 0.4272 - val_loss: 1.0721 - val_accuracy: 0.6786\n",
            "\n",
            "Epoch 00026: val_loss improved from 1.11011 to 1.07214, saving model to saved_models/audio_classification.hdf5\n",
            "Epoch 27/100\n",
            "70/70 [==============================] - 0s 3ms/step - loss: 1.3240 - accuracy: 0.4478 - val_loss: 0.9872 - val_accuracy: 0.7714\n",
            "\n",
            "Epoch 00027: val_loss improved from 1.07214 to 0.98720, saving model to saved_models/audio_classification.hdf5\n",
            "Epoch 28/100\n",
            "70/70 [==============================] - 0s 3ms/step - loss: 1.2083 - accuracy: 0.4991 - val_loss: 0.9045 - val_accuracy: 0.8089\n",
            "\n",
            "Epoch 00028: val_loss improved from 0.98720 to 0.90455, saving model to saved_models/audio_classification.hdf5\n",
            "Epoch 29/100\n",
            "70/70 [==============================] - 0s 3ms/step - loss: 1.1137 - accuracy: 0.5719 - val_loss: 0.7422 - val_accuracy: 0.8661\n",
            "\n",
            "Epoch 00029: val_loss improved from 0.90455 to 0.74220, saving model to saved_models/audio_classification.hdf5\n",
            "Epoch 30/100\n",
            "70/70 [==============================] - 0s 3ms/step - loss: 1.0051 - accuracy: 0.6250 - val_loss: 0.6097 - val_accuracy: 0.8911\n",
            "\n",
            "Epoch 00030: val_loss improved from 0.74220 to 0.60973, saving model to saved_models/audio_classification.hdf5\n",
            "Epoch 31/100\n",
            "70/70 [==============================] - 0s 3ms/step - loss: 0.8839 - accuracy: 0.6737 - val_loss: 0.5265 - val_accuracy: 0.8982\n",
            "\n",
            "Epoch 00031: val_loss improved from 0.60973 to 0.52645, saving model to saved_models/audio_classification.hdf5\n",
            "Epoch 32/100\n",
            "70/70 [==============================] - 0s 3ms/step - loss: 0.7985 - accuracy: 0.7223 - val_loss: 0.4304 - val_accuracy: 0.9089\n",
            "\n",
            "Epoch 00032: val_loss improved from 0.52645 to 0.43042, saving model to saved_models/audio_classification.hdf5\n",
            "Epoch 33/100\n",
            "70/70 [==============================] - 0s 3ms/step - loss: 0.7293 - accuracy: 0.7379 - val_loss: 0.4093 - val_accuracy: 0.9179\n",
            "\n",
            "Epoch 00033: val_loss improved from 0.43042 to 0.40935, saving model to saved_models/audio_classification.hdf5\n",
            "Epoch 34/100\n",
            "70/70 [==============================] - 0s 3ms/step - loss: 0.6789 - accuracy: 0.7665 - val_loss: 0.3312 - val_accuracy: 0.9446\n",
            "\n",
            "Epoch 00034: val_loss improved from 0.40935 to 0.33123, saving model to saved_models/audio_classification.hdf5\n",
            "Epoch 35/100\n",
            "70/70 [==============================] - 0s 3ms/step - loss: 0.5950 - accuracy: 0.7969 - val_loss: 0.2900 - val_accuracy: 0.9357\n",
            "\n",
            "Epoch 00035: val_loss improved from 0.33123 to 0.28996, saving model to saved_models/audio_classification.hdf5\n",
            "Epoch 36/100\n",
            "70/70 [==============================] - 0s 3ms/step - loss: 0.5510 - accuracy: 0.8054 - val_loss: 0.2197 - val_accuracy: 0.9732\n",
            "\n",
            "Epoch 00036: val_loss improved from 0.28996 to 0.21969, saving model to saved_models/audio_classification.hdf5\n",
            "Epoch 37/100\n",
            "70/70 [==============================] - 0s 4ms/step - loss: 0.5282 - accuracy: 0.8210 - val_loss: 0.1973 - val_accuracy: 0.9714\n",
            "\n",
            "Epoch 00037: val_loss improved from 0.21969 to 0.19726, saving model to saved_models/audio_classification.hdf5\n",
            "Epoch 38/100\n",
            "70/70 [==============================] - 0s 4ms/step - loss: 0.4697 - accuracy: 0.8357 - val_loss: 0.1877 - val_accuracy: 0.9732\n",
            "\n",
            "Epoch 00038: val_loss improved from 0.19726 to 0.18770, saving model to saved_models/audio_classification.hdf5\n",
            "Epoch 39/100\n",
            "70/70 [==============================] - 0s 3ms/step - loss: 0.4088 - accuracy: 0.8692 - val_loss: 0.1525 - val_accuracy: 0.9821\n",
            "\n",
            "Epoch 00039: val_loss improved from 0.18770 to 0.15255, saving model to saved_models/audio_classification.hdf5\n",
            "Epoch 40/100\n",
            "70/70 [==============================] - 0s 4ms/step - loss: 0.4154 - accuracy: 0.8652 - val_loss: 0.1461 - val_accuracy: 0.9786\n",
            "\n",
            "Epoch 00040: val_loss improved from 0.15255 to 0.14613, saving model to saved_models/audio_classification.hdf5\n",
            "Epoch 41/100\n",
            "70/70 [==============================] - 0s 3ms/step - loss: 0.3522 - accuracy: 0.8804 - val_loss: 0.1401 - val_accuracy: 0.9732\n",
            "\n",
            "Epoch 00041: val_loss improved from 0.14613 to 0.14007, saving model to saved_models/audio_classification.hdf5\n",
            "Epoch 42/100\n",
            "70/70 [==============================] - 0s 5ms/step - loss: 0.3739 - accuracy: 0.8804 - val_loss: 0.1348 - val_accuracy: 0.9804\n",
            "\n",
            "Epoch 00042: val_loss improved from 0.14007 to 0.13481, saving model to saved_models/audio_classification.hdf5\n",
            "Epoch 43/100\n",
            "70/70 [==============================] - 0s 4ms/step - loss: 0.3389 - accuracy: 0.8906 - val_loss: 0.1244 - val_accuracy: 0.9821\n",
            "\n",
            "Epoch 00043: val_loss improved from 0.13481 to 0.12443, saving model to saved_models/audio_classification.hdf5\n",
            "Epoch 44/100\n",
            "70/70 [==============================] - 0s 4ms/step - loss: 0.3028 - accuracy: 0.9071 - val_loss: 0.0840 - val_accuracy: 0.9821\n",
            "\n",
            "Epoch 00044: val_loss improved from 0.12443 to 0.08398, saving model to saved_models/audio_classification.hdf5\n",
            "Epoch 45/100\n",
            "70/70 [==============================] - 0s 5ms/step - loss: 0.3259 - accuracy: 0.8942 - val_loss: 0.0945 - val_accuracy: 0.9821\n",
            "\n",
            "Epoch 00045: val_loss did not improve from 0.08398\n",
            "Epoch 46/100\n",
            "70/70 [==============================] - 0s 5ms/step - loss: 0.2895 - accuracy: 0.9121 - val_loss: 0.0850 - val_accuracy: 0.9786\n",
            "\n",
            "Epoch 00046: val_loss did not improve from 0.08398\n",
            "Epoch 47/100\n",
            "70/70 [==============================] - 0s 5ms/step - loss: 0.2965 - accuracy: 0.8987 - val_loss: 0.0772 - val_accuracy: 0.9839\n",
            "\n",
            "Epoch 00047: val_loss improved from 0.08398 to 0.07719, saving model to saved_models/audio_classification.hdf5\n",
            "Epoch 48/100\n",
            "70/70 [==============================] - 0s 5ms/step - loss: 0.3010 - accuracy: 0.9112 - val_loss: 0.1033 - val_accuracy: 0.9821\n",
            "\n",
            "Epoch 00048: val_loss did not improve from 0.07719\n",
            "Epoch 49/100\n",
            "70/70 [==============================] - 0s 5ms/step - loss: 0.3070 - accuracy: 0.9009 - val_loss: 0.1057 - val_accuracy: 0.9768\n",
            "\n",
            "Epoch 00049: val_loss did not improve from 0.07719\n",
            "Epoch 50/100\n",
            "70/70 [==============================] - 0s 6ms/step - loss: 0.2736 - accuracy: 0.9179 - val_loss: 0.0810 - val_accuracy: 0.9857\n",
            "\n",
            "Epoch 00050: val_loss did not improve from 0.07719\n",
            "Epoch 51/100\n",
            "70/70 [==============================] - 0s 7ms/step - loss: 0.2720 - accuracy: 0.9183 - val_loss: 0.0923 - val_accuracy: 0.9714\n",
            "\n",
            "Epoch 00051: val_loss did not improve from 0.07719\n",
            "Epoch 52/100\n",
            "70/70 [==============================] - 0s 3ms/step - loss: 0.2345 - accuracy: 0.9254 - val_loss: 0.0729 - val_accuracy: 0.9821\n",
            "\n",
            "Epoch 00052: val_loss improved from 0.07719 to 0.07290, saving model to saved_models/audio_classification.hdf5\n",
            "Epoch 53/100\n",
            "70/70 [==============================] - 0s 3ms/step - loss: 0.2355 - accuracy: 0.9246 - val_loss: 0.0657 - val_accuracy: 0.9839\n",
            "\n",
            "Epoch 00053: val_loss improved from 0.07290 to 0.06571, saving model to saved_models/audio_classification.hdf5\n",
            "Epoch 54/100\n",
            "70/70 [==============================] - 0s 3ms/step - loss: 0.2210 - accuracy: 0.9308 - val_loss: 0.0514 - val_accuracy: 0.9893\n",
            "\n",
            "Epoch 00054: val_loss improved from 0.06571 to 0.05140, saving model to saved_models/audio_classification.hdf5\n",
            "Epoch 55/100\n",
            "70/70 [==============================] - 0s 3ms/step - loss: 0.2203 - accuracy: 0.9375 - val_loss: 0.0534 - val_accuracy: 0.9857\n",
            "\n",
            "Epoch 00055: val_loss did not improve from 0.05140\n",
            "Epoch 56/100\n",
            "70/70 [==============================] - 0s 3ms/step - loss: 0.2223 - accuracy: 0.9317 - val_loss: 0.0628 - val_accuracy: 0.9875\n",
            "\n",
            "Epoch 00056: val_loss did not improve from 0.05140\n",
            "Epoch 57/100\n",
            "70/70 [==============================] - 0s 3ms/step - loss: 0.2203 - accuracy: 0.9326 - val_loss: 0.0565 - val_accuracy: 0.9875\n",
            "\n",
            "Epoch 00057: val_loss did not improve from 0.05140\n",
            "Epoch 58/100\n",
            "70/70 [==============================] - 0s 3ms/step - loss: 0.1919 - accuracy: 0.9393 - val_loss: 0.0646 - val_accuracy: 0.9857\n",
            "\n",
            "Epoch 00058: val_loss did not improve from 0.05140\n",
            "Epoch 59/100\n",
            "70/70 [==============================] - 0s 3ms/step - loss: 0.1999 - accuracy: 0.9415 - val_loss: 0.0489 - val_accuracy: 0.9857\n",
            "\n",
            "Epoch 00059: val_loss improved from 0.05140 to 0.04886, saving model to saved_models/audio_classification.hdf5\n",
            "Epoch 60/100\n",
            "70/70 [==============================] - 0s 4ms/step - loss: 0.2130 - accuracy: 0.9299 - val_loss: 0.0730 - val_accuracy: 0.9857\n",
            "\n",
            "Epoch 00060: val_loss did not improve from 0.04886\n",
            "Epoch 61/100\n",
            "70/70 [==============================] - 0s 3ms/step - loss: 0.2186 - accuracy: 0.9304 - val_loss: 0.0457 - val_accuracy: 0.9893\n",
            "\n",
            "Epoch 00061: val_loss improved from 0.04886 to 0.04574, saving model to saved_models/audio_classification.hdf5\n",
            "Epoch 62/100\n",
            "70/70 [==============================] - 0s 3ms/step - loss: 0.2022 - accuracy: 0.9375 - val_loss: 0.0507 - val_accuracy: 0.9893\n",
            "\n",
            "Epoch 00062: val_loss did not improve from 0.04574\n",
            "Epoch 63/100\n",
            "70/70 [==============================] - 0s 3ms/step - loss: 0.2204 - accuracy: 0.9362 - val_loss: 0.0516 - val_accuracy: 0.9893\n",
            "\n",
            "Epoch 00063: val_loss did not improve from 0.04574\n",
            "Epoch 64/100\n",
            "70/70 [==============================] - 0s 3ms/step - loss: 0.2076 - accuracy: 0.9415 - val_loss: 0.0651 - val_accuracy: 0.9875\n",
            "\n",
            "Epoch 00064: val_loss did not improve from 0.04574\n",
            "Epoch 65/100\n",
            "70/70 [==============================] - 0s 3ms/step - loss: 0.1811 - accuracy: 0.9438 - val_loss: 0.0653 - val_accuracy: 0.9768\n",
            "\n",
            "Epoch 00065: val_loss did not improve from 0.04574\n",
            "Epoch 66/100\n",
            "70/70 [==============================] - 0s 3ms/step - loss: 0.1680 - accuracy: 0.9478 - val_loss: 0.0530 - val_accuracy: 0.9839\n",
            "\n",
            "Epoch 00066: val_loss did not improve from 0.04574\n",
            "Epoch 67/100\n",
            "70/70 [==============================] - 0s 3ms/step - loss: 0.1591 - accuracy: 0.9487 - val_loss: 0.0488 - val_accuracy: 0.9893\n",
            "\n",
            "Epoch 00067: val_loss did not improve from 0.04574\n",
            "Epoch 68/100\n",
            "70/70 [==============================] - 0s 4ms/step - loss: 0.1769 - accuracy: 0.9455 - val_loss: 0.0594 - val_accuracy: 0.9821\n",
            "\n",
            "Epoch 00068: val_loss did not improve from 0.04574\n",
            "Epoch 69/100\n",
            "70/70 [==============================] - 0s 3ms/step - loss: 0.1883 - accuracy: 0.9406 - val_loss: 0.0495 - val_accuracy: 0.9857\n",
            "\n",
            "Epoch 00069: val_loss did not improve from 0.04574\n",
            "Epoch 70/100\n",
            "70/70 [==============================] - 0s 3ms/step - loss: 0.1903 - accuracy: 0.9397 - val_loss: 0.0720 - val_accuracy: 0.9857\n",
            "\n",
            "Epoch 00070: val_loss did not improve from 0.04574\n",
            "Epoch 71/100\n",
            "70/70 [==============================] - 0s 4ms/step - loss: 0.1546 - accuracy: 0.9496 - val_loss: 0.0353 - val_accuracy: 0.9857\n",
            "\n",
            "Epoch 00071: val_loss improved from 0.04574 to 0.03532, saving model to saved_models/audio_classification.hdf5\n",
            "Epoch 72/100\n",
            "70/70 [==============================] - 0s 3ms/step - loss: 0.1811 - accuracy: 0.9496 - val_loss: 0.0516 - val_accuracy: 0.9929\n",
            "\n",
            "Epoch 00072: val_loss did not improve from 0.03532\n",
            "Epoch 73/100\n",
            "70/70 [==============================] - 0s 3ms/step - loss: 0.1760 - accuracy: 0.9442 - val_loss: 0.0426 - val_accuracy: 0.9911\n",
            "\n",
            "Epoch 00073: val_loss did not improve from 0.03532\n",
            "Epoch 74/100\n",
            "70/70 [==============================] - 0s 3ms/step - loss: 0.1960 - accuracy: 0.9433 - val_loss: 0.0590 - val_accuracy: 0.9786\n",
            "\n",
            "Epoch 00074: val_loss did not improve from 0.03532\n",
            "Epoch 75/100\n",
            "70/70 [==============================] - 0s 3ms/step - loss: 0.1470 - accuracy: 0.9571 - val_loss: 0.0368 - val_accuracy: 0.9893\n",
            "\n",
            "Epoch 00075: val_loss did not improve from 0.03532\n",
            "Epoch 76/100\n",
            "70/70 [==============================] - 0s 3ms/step - loss: 0.1855 - accuracy: 0.9424 - val_loss: 0.0530 - val_accuracy: 0.9821\n",
            "\n",
            "Epoch 00076: val_loss did not improve from 0.03532\n",
            "Epoch 77/100\n",
            "70/70 [==============================] - 0s 3ms/step - loss: 0.1669 - accuracy: 0.9540 - val_loss: 0.0437 - val_accuracy: 0.9893\n",
            "\n",
            "Epoch 00077: val_loss did not improve from 0.03532\n",
            "Epoch 78/100\n",
            "70/70 [==============================] - 0s 3ms/step - loss: 0.1635 - accuracy: 0.9513 - val_loss: 0.0500 - val_accuracy: 0.9929\n",
            "\n",
            "Epoch 00078: val_loss did not improve from 0.03532\n",
            "Epoch 79/100\n",
            "70/70 [==============================] - 0s 3ms/step - loss: 0.1368 - accuracy: 0.9567 - val_loss: 0.0600 - val_accuracy: 0.9768\n",
            "\n",
            "Epoch 00079: val_loss did not improve from 0.03532\n",
            "Epoch 80/100\n",
            "70/70 [==============================] - 0s 3ms/step - loss: 0.1696 - accuracy: 0.9496 - val_loss: 0.0565 - val_accuracy: 0.9875\n",
            "\n",
            "Epoch 00080: val_loss did not improve from 0.03532\n",
            "Epoch 81/100\n",
            "70/70 [==============================] - 0s 3ms/step - loss: 0.1510 - accuracy: 0.9527 - val_loss: 0.0344 - val_accuracy: 0.9911\n",
            "\n",
            "Epoch 00081: val_loss improved from 0.03532 to 0.03442, saving model to saved_models/audio_classification.hdf5\n",
            "Epoch 82/100\n",
            "70/70 [==============================] - 0s 3ms/step - loss: 0.1693 - accuracy: 0.9478 - val_loss: 0.0310 - val_accuracy: 0.9946\n",
            "\n",
            "Epoch 00082: val_loss improved from 0.03442 to 0.03098, saving model to saved_models/audio_classification.hdf5\n",
            "Epoch 83/100\n",
            "70/70 [==============================] - 0s 3ms/step - loss: 0.1498 - accuracy: 0.9531 - val_loss: 0.0473 - val_accuracy: 0.9875\n",
            "\n",
            "Epoch 00083: val_loss did not improve from 0.03098\n",
            "Epoch 84/100\n",
            "70/70 [==============================] - 0s 3ms/step - loss: 0.1473 - accuracy: 0.9554 - val_loss: 0.0295 - val_accuracy: 0.9929\n",
            "\n",
            "Epoch 00084: val_loss improved from 0.03098 to 0.02948, saving model to saved_models/audio_classification.hdf5\n",
            "Epoch 85/100\n",
            "70/70 [==============================] - 0s 3ms/step - loss: 0.1619 - accuracy: 0.9496 - val_loss: 0.0317 - val_accuracy: 0.9893\n",
            "\n",
            "Epoch 00085: val_loss did not improve from 0.02948\n",
            "Epoch 86/100\n",
            "70/70 [==============================] - 0s 3ms/step - loss: 0.1449 - accuracy: 0.9589 - val_loss: 0.0424 - val_accuracy: 0.9875\n",
            "\n",
            "Epoch 00086: val_loss did not improve from 0.02948\n",
            "Epoch 87/100\n",
            "70/70 [==============================] - 0s 3ms/step - loss: 0.1547 - accuracy: 0.9549 - val_loss: 0.0420 - val_accuracy: 0.9929\n",
            "\n",
            "Epoch 00087: val_loss did not improve from 0.02948\n",
            "Epoch 88/100\n",
            "70/70 [==============================] - 0s 3ms/step - loss: 0.1446 - accuracy: 0.9558 - val_loss: 0.0526 - val_accuracy: 0.9821\n",
            "\n",
            "Epoch 00088: val_loss did not improve from 0.02948\n",
            "Epoch 89/100\n",
            "70/70 [==============================] - 0s 4ms/step - loss: 0.1317 - accuracy: 0.9607 - val_loss: 0.0326 - val_accuracy: 0.9929\n",
            "\n",
            "Epoch 00089: val_loss did not improve from 0.02948\n",
            "Epoch 90/100\n",
            "70/70 [==============================] - 0s 3ms/step - loss: 0.1367 - accuracy: 0.9580 - val_loss: 0.0404 - val_accuracy: 0.9911\n",
            "\n",
            "Epoch 00090: val_loss did not improve from 0.02948\n",
            "Epoch 91/100\n",
            "70/70 [==============================] - 0s 3ms/step - loss: 0.1418 - accuracy: 0.9545 - val_loss: 0.0358 - val_accuracy: 0.9911\n",
            "\n",
            "Epoch 00091: val_loss did not improve from 0.02948\n",
            "Epoch 92/100\n",
            "70/70 [==============================] - 0s 3ms/step - loss: 0.1583 - accuracy: 0.9513 - val_loss: 0.0313 - val_accuracy: 0.9911\n",
            "\n",
            "Epoch 00092: val_loss did not improve from 0.02948\n",
            "Epoch 93/100\n",
            "70/70 [==============================] - 0s 3ms/step - loss: 0.1360 - accuracy: 0.9612 - val_loss: 0.0397 - val_accuracy: 0.9875\n",
            "\n",
            "Epoch 00093: val_loss did not improve from 0.02948\n",
            "Epoch 94/100\n",
            "70/70 [==============================] - 0s 3ms/step - loss: 0.1534 - accuracy: 0.9531 - val_loss: 0.0379 - val_accuracy: 0.9946\n",
            "\n",
            "Epoch 00094: val_loss did not improve from 0.02948\n",
            "Epoch 95/100\n",
            "70/70 [==============================] - 0s 4ms/step - loss: 0.1587 - accuracy: 0.9513 - val_loss: 0.0463 - val_accuracy: 0.9875\n",
            "\n",
            "Epoch 00095: val_loss did not improve from 0.02948\n",
            "Epoch 96/100\n",
            "70/70 [==============================] - 0s 4ms/step - loss: 0.1482 - accuracy: 0.9563 - val_loss: 0.0575 - val_accuracy: 0.9821\n",
            "\n",
            "Epoch 00096: val_loss did not improve from 0.02948\n",
            "Epoch 97/100\n",
            "70/70 [==============================] - 0s 3ms/step - loss: 0.1318 - accuracy: 0.9629 - val_loss: 0.0443 - val_accuracy: 0.9911\n",
            "\n",
            "Epoch 00097: val_loss did not improve from 0.02948\n",
            "Epoch 98/100\n",
            "70/70 [==============================] - 0s 3ms/step - loss: 0.1332 - accuracy: 0.9616 - val_loss: 0.0391 - val_accuracy: 0.9929\n",
            "\n",
            "Epoch 00098: val_loss did not improve from 0.02948\n",
            "Epoch 99/100\n",
            "70/70 [==============================] - 0s 3ms/step - loss: 0.1302 - accuracy: 0.9652 - val_loss: 0.0414 - val_accuracy: 0.9929\n",
            "\n",
            "Epoch 00099: val_loss did not improve from 0.02948\n",
            "Epoch 100/100\n",
            "70/70 [==============================] - 0s 3ms/step - loss: 0.1256 - accuracy: 0.9607 - val_loss: 0.0478 - val_accuracy: 0.9893\n",
            "\n",
            "Epoch 00100: val_loss did not improve from 0.02948\n",
            "Training completed in time:  0:00:26.966868\n"
          ]
        }
      ]
    },
    {
      "cell_type": "markdown",
      "metadata": {
        "id": "jo21TpvB_-a9"
      },
      "source": [
        "Result : Accuracy -> 98.93%"
      ]
    },
    {
      "cell_type": "code",
      "metadata": {
        "colab": {
          "base_uri": "https://localhost:8080/"
        },
        "id": "thBJXCB-0jKZ",
        "outputId": "f92531fd-a75c-405d-fdb1-a366a83e1c5b"
      },
      "source": [
        "test_accuracy=model.evaluate(X_test,y_test,verbose=0)\n",
        "print(test_accuracy[1])"
      ],
      "execution_count": null,
      "outputs": [
        {
          "name": "stdout",
          "output_type": "stream",
          "text": [
            "0.9892857074737549\n"
          ]
        }
      ]
    }
  ]
}